{
 "cells": [
  {
   "cell_type": "code",
   "execution_count": 0,
   "metadata": {
    "application/vnd.databricks.v1+cell": {
     "cellMetadata": {
      "byteLimit": 2048000,
      "rowLimit": 10000
     },
     "inputWidgets": {},
     "nuid": "ef68ec2a-078e-4448-ab37-759b127e03d9",
     "showTitle": true,
     "tableResultSettingsMap": {},
     "title": "1. Selecione todos os clientes paulistanos."
    }
   },
   "outputs": [],
   "source": [
    "SELECT *\n",
    "FROM silver.olist.cliente\n",
    "WHERE descCidade = 'sao paulo'"
   ]
  },
  {
   "cell_type": "code",
   "execution_count": 0,
   "metadata": {
    "application/vnd.databricks.v1+cell": {
     "cellMetadata": {
      "byteLimit": 2048000,
      "rowLimit": 10000
     },
     "inputWidgets": {},
     "nuid": "adffaa8e-4227-4a3e-82d8-e9cc04c04049",
     "showTitle": true,
     "tableResultSettingsMap": {},
     "title": "2. Selecione todos os clientes paulistas."
    }
   },
   "outputs": [],
   "source": [
    "SELECT *\n",
    "FROM silver.olist.cliente\n",
    "WHERE descUF = 'SP'"
   ]
  },
  {
   "cell_type": "code",
   "execution_count": 0,
   "metadata": {
    "application/vnd.databricks.v1+cell": {
     "cellMetadata": {
      "byteLimit": 2048000,
      "rowLimit": 10000
     },
     "inputWidgets": {},
     "nuid": "08551ae0-3a23-4cdb-86d1-1aa4320800a4",
     "showTitle": true,
     "tableResultSettingsMap": {},
     "title": "3. Selecione todos os vendedores cariocas e paulistas."
    }
   },
   "outputs": [],
   "source": [
    "SELECT *\n",
    "FROM silver.olist.vendedor\n",
    "WHERE descUF ='SP' OR descCidade = 'rio de janeiro'"
   ]
  },
  {
   "cell_type": "code",
   "execution_count": 0,
   "metadata": {
    "application/vnd.databricks.v1+cell": {
     "cellMetadata": {
      "byteLimit": 2048000,
      "rowLimit": 10000
     },
     "inputWidgets": {},
     "nuid": "7fe539e0-1ab4-4430-a743-77d542b23939",
     "showTitle": true,
     "tableResultSettingsMap": {},
     "title": "4. Selecione produtos de perfumaria e bebes com altura maior que 5cm."
    }
   },
   "outputs": [],
   "source": [
    "SELECT *\n",
    "FROM silver.olist.produto\n",
    "WHERE descCategoria IN ('perfumaria', 'bebes') AND vlAlturaCM > 5"
   ]
  },
  {
   "cell_type": "code",
   "execution_count": 0,
   "metadata": {
    "application/vnd.databricks.v1+cell": {
     "cellMetadata": {
      "byteLimit": 2048000,
      "rowLimit": 10000
     },
     "inputWidgets": {},
     "nuid": "dc668d54-64d6-43ca-9371-569aad64a68c",
     "showTitle": true,
     "tableResultSettingsMap": {},
     "title": "5. Selecione os pedidos com mais de um item."
    }
   },
   "outputs": [],
   "source": [
    "SELECT *\n",
    "FROM silver.olist.item_pedido\n",
    "WHERE idPedidoItem > 1"
   ]
  },
  {
   "cell_type": "code",
   "execution_count": 0,
   "metadata": {
    "application/vnd.databricks.v1+cell": {
     "cellMetadata": {
      "byteLimit": 2048000,
      "rowLimit": 10000
     },
     "inputWidgets": {},
     "nuid": "e4f77a11-c3ab-48bc-a26e-02d1036803cf",
     "showTitle": true,
     "tableResultSettingsMap": {},
     "title": "6. Selecione os pedidos que o frete é mais caro que o item."
    }
   },
   "outputs": [],
   "source": [
    "SELECT *\n",
    "FROM silver.olist.item_pedido\n",
    "WHERE vlFrete > vlPreco"
   ]
  },
  {
   "cell_type": "code",
   "execution_count": 0,
   "metadata": {
    "application/vnd.databricks.v1+cell": {
     "cellMetadata": {
      "byteLimit": 2048000,
      "rowLimit": 10000
     },
     "inputWidgets": {},
     "nuid": "557d50e3-e4a9-446f-b618-c23c56911d51",
     "showTitle": true,
     "tableResultSettingsMap": {},
     "title": "7. Lista de pedidos que ainda não foram enviados."
    }
   },
   "outputs": [],
   "source": [
    "SELECT *\n",
    "FROM silver.olist.pedido\n",
    "WHERE dtEnvio IS NULL"
   ]
  },
  {
   "cell_type": "code",
   "execution_count": 0,
   "metadata": {
    "application/vnd.databricks.v1+cell": {
     "cellMetadata": {
      "byteLimit": 2048000,
      "rowLimit": 10000
     },
     "inputWidgets": {},
     "nuid": "7edd99db-bed7-4336-a733-baa247270b24",
     "showTitle": true,
     "tableResultSettingsMap": {},
     "title": "8. Lista de pedidos que foram entregues com atraso."
    }
   },
   "outputs": [],
   "source": [
    "SELECT *\n",
    "FROM silver.olist.pedido\n",
    "WHERE date(dtEntregue) > date(dtEstimativaEntrega)"
   ]
  },
  {
   "cell_type": "code",
   "execution_count": 0,
   "metadata": {
    "application/vnd.databricks.v1+cell": {
     "cellMetadata": {
      "byteLimit": 2048000,
      "rowLimit": 10000
     },
     "collapsed": true,
     "inputWidgets": {},
     "nuid": "71302ee7-cd5d-4d76-a536-2a63fdc518a9",
     "showTitle": true,
     "tableResultSettingsMap": {},
     "title": "9. Lista de pedidos que foram entregues com 2 dias de antecedência."
    }
   },
   "outputs": [],
   "source": [
    "SELECT *\n",
    "FROM silver.olist.pedido\n",
    "WHERE datediff(date(dtEstimativaEntrega), date(dtEntregue)) = 2\n",
    "--WHERE date(dtEntregue) = date_sub(dtEstimativaEntrega,2)"
   ]
  },
  {
   "cell_type": "code",
   "execution_count": 0,
   "metadata": {
    "application/vnd.databricks.v1+cell": {
     "cellMetadata": {
      "byteLimit": 2048000,
      "rowLimit": 10000
     },
     "inputWidgets": {},
     "nuid": "638e27a4-2d3a-4fb3-994b-d676827bc5e0",
     "showTitle": true,
     "tableResultSettingsMap": {},
     "title": "10. Selecione os pedidos feitos em dezembro de 2017 e entregues com atraso."
    }
   },
   "outputs": [],
   "source": [
    "SELECT *\n",
    "FROM silver.olist.pedido\n",
    "WHERE date(dtEntregue) > date(dtEstimativaEntrega)\n",
    "AND year(dtPedido) = 2017\n",
    "AND month(dtPedido) = 12"
   ]
  },
  {
   "cell_type": "code",
   "execution_count": 0,
   "metadata": {
    "application/vnd.databricks.v1+cell": {
     "cellMetadata": {
      "byteLimit": 2048000,
      "rowLimit": 10000
     },
     "inputWidgets": {},
     "nuid": "ec8dafaf-e539-4c41-ada1-f7d99ea75dec",
     "showTitle": true,
     "tableResultSettingsMap": {},
     "title": "11. Selecione os pedidos com avaliação maior ou igual que 4."
    }
   },
   "outputs": [],
   "source": [
    "SELECT *\n",
    "FROM silver.olist.avaliacao_pedido\n",
    "WHERE vlNota >= 4"
   ]
  },
  {
   "cell_type": "code",
   "execution_count": 0,
   "metadata": {
    "application/vnd.databricks.v1+cell": {
     "cellMetadata": {
      "byteLimit": 2048000,
      "rowLimit": 10000
     },
     "inputWidgets": {},
     "nuid": "e684d685-d24d-4b03-a483-6929d5b6f860",
     "showTitle": true,
     "tableResultSettingsMap": {},
     "title": "12. Selecione pedidos pagos com cartão de crédito com duas ou mais parcelas menores que R$40,00."
    }
   },
   "outputs": [],
   "source": [
    "SELECT *\n",
    "FROM silver.olist.pagamento_pedido\n",
    "WHERE descTipoPagamento = 'credit_card'\n",
    "AND nrParcelas >= 2\n",
    "AND (vlPagamento / nrParcelas) < 40"
   ]
  }
 ],
 "metadata": {
  "application/vnd.databricks.v1+notebook": {
   "computePreferences": null,
   "dashboards": [],
   "environmentMetadata": {
    "base_environment": "",
    "environment_version": "2"
   },
   "language": "sql",
   "notebookMetadata": {
    "pythonIndentUnit": 4
   },
   "notebookName": "EXERCICIOS",
   "widgets": {}
  },
  "language_info": {
   "name": "sql"
  }
 },
 "nbformat": 4,
 "nbformat_minor": 0
}
