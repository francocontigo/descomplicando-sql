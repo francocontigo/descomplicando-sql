{
 "cells": [
  {
   "cell_type": "code",
   "execution_count": 0,
   "metadata": {
    "application/vnd.databricks.v1+cell": {
     "cellMetadata": {
      "byteLimit": 2048000,
      "rowLimit": 10000
     },
     "inputWidgets": {},
     "nuid": "bc31e202-672a-461c-94c7-eece5960dc84",
     "showTitle": true,
     "tableResultSettingsMap": {},
     "title": "Faixas de Preço"
    }
   },
   "outputs": [],
   "source": [
    "SELECT *,\n",
    "  CASE \n",
    "    WHEN vlPreco <= 100 THEN '0 -| 100'\n",
    "    WHEN vlPreco <= 200 THEN '100 -| 200'\n",
    "    WHEN vlPreco <= 300 THEN '200 -| 300'\n",
    "    WHEN vlPreco <= 400 THEN '300 -| 400'\n",
    "    WHEN vlPreco <= 500 THEN '400 -| 500'\n",
    "    WHEN vlPreco <= 600 THEN '500 -| 600'\n",
    "    WHEN vlPreco <= 700 THEN '600 -| 700'\n",
    "    WHEN vlPreco <= 800 THEN '700 -| 800'\n",
    "    WHEN vlPreco <= 900 THEN '900 -| 900'\n",
    "    WHEN vlPreco <= 1000 THEN '900 -| 1000'\n",
    "    ELSE '1000 -| ...'\n",
    "  END AS fxPreco\n",
    "FROM silver.olist.item_pedido\n"
   ]
  },
  {
   "cell_type": "code",
   "execution_count": 0,
   "metadata": {
    "application/vnd.databricks.v1+cell": {
     "cellMetadata": {
      "byteLimit": 2048000,
      "rowLimit": 10000
     },
     "inputWidgets": {},
     "nuid": "f3d1df0a-988c-4d28-871b-d9f2692032ae",
     "showTitle": false,
     "tableResultSettingsMap": {},
     "title": ""
    }
   },
   "outputs": [],
   "source": [
    "SELECT *,\n",
    "  CASE\n",
    "    WHEN vlFrete / (vlFrete + vlPreco) = 0 THEN 'Frete Gratuito'\n",
    "    WHEN vlFrete / (vlFrete + vlPreco) <= 0.2 THEN 'Frete Baixo'\n",
    "    WHEN vlFrete / (vlFrete + vlPreco) <= 0.4 THEN 'Frete Médio'\n",
    "    ELSE 'Frete Alto'\n",
    "  END AS descFrete\n",
    "FROM silver.olist.item_pedido"
   ]
  },
  {
   "cell_type": "code",
   "execution_count": 0,
   "metadata": {
    "application/vnd.databricks.v1+cell": {
     "cellMetadata": {
      "byteLimit": 2048000,
      "rowLimit": 10000
     },
     "inputWidgets": {},
     "nuid": "74381070-a2ce-4f13-b1b4-0fea92288b06",
     "showTitle": false,
     "tableResultSettingsMap": {},
     "title": ""
    }
   },
   "outputs": [],
   "source": [
    "SELECT *,\n",
    "  CASE\n",
    "    WHEN descUF IN ('RS', 'SC', 'PR') THEN 'Sul'\n",
    "    WHEN descUF IN ('SP', 'MG', 'RJ', 'ES') THEN 'Sudeste'\n",
    "    WHEN descUF IN ('MS', 'MT', 'GO', 'DF') THEN 'Centro-Oeste'\n",
    "    WHEN descUF IN ('AC', 'RO', 'AM', 'RR', 'AP', 'PA', 'TO') THEN 'Norte'\n",
    "    else 'Nordeste' \n",
    "  END AS descRegiao\n",
    "from silver.olist.cliente"
   ]
  },
  {
   "cell_type": "code",
   "execution_count": 0,
   "metadata": {
    "application/vnd.databricks.v1+cell": {
     "cellMetadata": {
      "byteLimit": 2048000,
      "rowLimit": 10000
     },
     "inputWidgets": {},
     "nuid": "c8db92bb-68e3-4986-aa33-929a8b2b7d95",
     "showTitle": false,
     "tableResultSettingsMap": {},
     "title": ""
    }
   },
   "outputs": [],
   "source": [
    "SELECT *,\n",
    "  CASE\n",
    "    WHEN descUF = 'SP' THEN 'Paulista'\n",
    "    WHEN descUF = 'RJ' THEN 'Fluminense'\n",
    "    WHEN descUF = 'MG' THEN 'Mineiro'\n",
    "    WHEN descUF = 'AC' THEN 'Acreano'\n",
    "    WHEN descUF = 'BA' THEN 'Baiano'\n",
    "    ELSE 'Não Mapeado'\n",
    "  END AS descNacionalidade\n",
    "FROM silver.olist.vendedor"
   ]
  }
 ],
 "metadata": {
  "application/vnd.databricks.v1+notebook": {
   "computePreferences": null,
   "dashboards": [],
   "environmentMetadata": {
    "base_environment": "",
    "environment_version": "2"
   },
   "language": "sql",
   "notebookMetadata": {
    "pythonIndentUnit": 4
   },
   "notebookName": "SELECT_CASE",
   "widgets": {}
  },
  "language_info": {
   "name": "sql"
  }
 },
 "nbformat": 4,
 "nbformat_minor": 0
}
