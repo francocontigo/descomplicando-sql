{
 "cells": [
  {
   "cell_type": "code",
   "execution_count": 0,
   "metadata": {
    "application/vnd.databricks.v1+cell": {
     "cellMetadata": {
      "byteLimit": 2048000,
      "rowLimit": 10000
     },
     "inputWidgets": {},
     "nuid": "d912898b-e412-4276-b65a-9113d4b72abc",
     "showTitle": false,
     "tableResultSettingsMap": {},
     "title": ""
    }
   },
   "outputs": [],
   "source": [
    "SELECT *,\n",
    "  CASE\n",
    "    WHEN vlPreco <= 100 THEN '000 -| 100'\n",
    "    WHEN vlPreco <= 200 THEN '100 -| 200'\n",
    "    WHEN vlPreco <= 300 THEN '200 -| 300'\n",
    "    WHEN vlPreco <= 400 THEN '300 -| 400'\n",
    "    WHEN vlPreco <= 500 THEN '400 -| 500'\n",
    "    WHEN vlPreco <= 600 THEN '500 -| 600'\n",
    "    WHEN vlPreco <= 700 THEN '600 -| 700'\n",
    "    WHEN vlPreco <= 800 THEN '700 -| 800'\n",
    "    WHEN vlPreco <= 900 THEN '800 -| 900'\n",
    "    WHEN vlPreco <= 1000 THEN '900 -| 1000'\n",
    "    ELSE '1000 -| ...'\n",
    "  END AS fxPreco,\n",
    "  CASE\n",
    "    WHEN vlFrete / (vlPreco + vlFrete) = 0 THEN 'Frete Gratuito'\n",
    "    WHEN vlFrete / (vlPreco + vlFrete) <= 0.2 THEN 'Frete Baixo'\n",
    "    WHEN vlFrete / (vlPreco + vlFrete) <= 0.4 THEN 'Frete Moderado'\n",
    "    ELSE 'Frete Alto'\n",
    "  END AS fxFrete\n",
    "FROM silver.olist.item_pedido\n",
    "WHERE vlPreco >= 50"
   ]
  }
 ],
 "metadata": {
  "application/vnd.databricks.v1+notebook": {
   "computePreferences": null,
   "dashboards": [],
   "environmentMetadata": {
    "base_environment": "",
    "environment_version": "2"
   },
   "language": "sql",
   "notebookMetadata": {
    "pythonIndentUnit": 4
   },
   "notebookName": "SELECT_CASE_FROM_WHERE",
   "widgets": {}
  },
  "language_info": {
   "name": "sql"
  }
 },
 "nbformat": 4,
 "nbformat_minor": 0
}
