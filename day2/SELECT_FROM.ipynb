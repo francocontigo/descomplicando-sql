{
 "cells": [
  {
   "cell_type": "code",
   "execution_count": 0,
   "metadata": {
    "application/vnd.databricks.v1+cell": {
     "cellMetadata": {
      "byteLimit": 2048000,
      "rowLimit": 10000
     },
     "inputWidgets": {},
     "nuid": "84d914cf-7658-4fbc-a609-d2bdc8ccba13",
     "showTitle": true,
     "tableResultSettingsMap": {},
     "title": "Consultando Tabelas"
    }
   },
   "outputs": [],
   "source": [
    "SELECT *\n",
    "FROM silver.olist.pedido\n",
    "LIMIT 10"
   ]
  },
  {
   "cell_type": "code",
   "execution_count": 0,
   "metadata": {
    "application/vnd.databricks.v1+cell": {
     "cellMetadata": {
      "byteLimit": 2048000,
      "rowLimit": 10000
     },
     "inputWidgets": {},
     "nuid": "45ff0ed4-3aa9-4c8a-9f40-64e369d2400d",
     "showTitle": true,
     "tableResultSettingsMap": {},
     "title": "Todas colunas + 1"
    }
   },
   "outputs": [],
   "source": [
    "SELECT *,\n",
    "vlPreco + vlFrete AS vlTotal\n",
    "FROM silver.olist.item_pedido\n"
   ]
  },
  {
   "cell_type": "code",
   "execution_count": 0,
   "metadata": {
    "application/vnd.databricks.v1+cell": {
     "cellMetadata": {
      "byteLimit": 2048000,
      "rowLimit": 10000
     },
     "inputWidgets": {},
     "nuid": "d41f9df8-2bbe-4065-ab39-5531e271ff5c",
     "showTitle": true,
     "tableResultSettingsMap": {},
     "title": "Selecionando colunas específicas"
    }
   },
   "outputs": [],
   "source": [
    "SELECT idPedido, \n",
    "idProduto, \n",
    "vlPreco, \n",
    "vlFrete, \n",
    "vlPreco + vlFrete AS vlTotal\n",
    "FROM silver.olist.item_pedido"
   ]
  }
 ],
 "metadata": {
  "application/vnd.databricks.v1+notebook": {
   "computePreferences": null,
   "dashboards": [],
   "environmentMetadata": {
    "base_environment": "",
    "environment_version": "2"
   },
   "language": "sql",
   "notebookMetadata": {},
   "notebookName": "SELECT_FROM",
   "widgets": {}
  },
  "language_info": {
   "name": "sql"
  }
 },
 "nbformat": 4,
 "nbformat_minor": 0
}
